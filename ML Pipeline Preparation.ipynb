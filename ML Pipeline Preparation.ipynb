{
 "cells": [
  {
   "cell_type": "markdown",
   "metadata": {},
   "source": [
    "# ML Pipeline Preparation\n",
    "Follow the instructions below to help you create your ML pipeline.\n",
    "### 1. Import libraries and load data from database.\n",
    "- Import Python libraries\n",
    "- Load dataset from database with [`read_sql_table`](https://pandas.pydata.org/pandas-docs/stable/generated/pandas.read_sql_table.html)\n",
    "- Define feature and target variables X and Y"
   ]
  },
  {
   "cell_type": "code",
   "execution_count": 1,
   "metadata": {},
   "outputs": [
    {
     "name": "stderr",
     "output_type": "stream",
     "text": [
      "[nltk_data] Downloading package punkt to C:\\Users\\Jorge\n",
      "[nltk_data]     Assis\\AppData\\Roaming\\nltk_data...\n",
      "[nltk_data]   Package punkt is already up-to-date!\n",
      "[nltk_data] Downloading package wordnet to C:\\Users\\Jorge\n",
      "[nltk_data]     Assis\\AppData\\Roaming\\nltk_data...\n",
      "[nltk_data]   Package wordnet is already up-to-date!\n",
      "[nltk_data] Downloading package averaged_perceptron_tagger to\n",
      "[nltk_data]     C:\\Users\\Jorge Assis\\AppData\\Roaming\\nltk_data...\n",
      "[nltk_data]   Package averaged_perceptron_tagger is already up-to-\n",
      "[nltk_data]       date!\n"
     ]
    }
   ],
   "source": [
    "# import libraries\n",
    "import numpy as np\n",
    "import pandas as pd\n",
    "import matplotlib.pyplot as plt\n",
    "from IPython import display\n",
    "import re\n",
    "#\n",
    "from sqlalchemy import create_engine\n",
    "from sklearn.metrics import confusion_matrix\n",
    "from sklearn.model_selection import GridSearchCV\n",
    "from sklearn.ensemble import RandomForestClassifier\n",
    "from sklearn.model_selection import train_test_split\n",
    "from sklearn.pipeline import Pipeline, FeatureUnion\n",
    "from sklearn.base import BaseEstimator, TransformerMixin\n",
    "from sklearn.feature_extraction.text import CountVectorizer, TfidfTransformer\n",
    "from sklearn.multioutput import MultiOutputClassifier\n",
    "from sklearn.metrics import classification_report\n",
    "#\n",
    "import nltk\n",
    "nltk.download(['punkt', 'wordnet', 'averaged_perceptron_tagger'])\n",
    "from nltk.tokenize import word_tokenize\n",
    "from nltk.stem import WordNetLemmatizer\n",
    "%matplotlib inline"
   ]
  },
  {
   "cell_type": "code",
   "execution_count": 2,
   "metadata": {},
   "outputs": [
    {
     "data": {
      "text/plain": [
       "Index(['related', 'request', 'offer', 'aid_related', 'medical_help',\n",
       "       'medical_products', 'search_and_rescue', 'security', 'military',\n",
       "       'child_alone', 'water', 'food', 'shelter', 'clothing', 'money',\n",
       "       'missing_people', 'refugees', 'death', 'other_aid',\n",
       "       'infrastructure_related', 'transport', 'buildings', 'electricity',\n",
       "       'tools', 'hospitals', 'shops', 'aid_centers', 'other_infrastructure',\n",
       "       'weather_related', 'floods', 'storm', 'fire', 'earthquake', 'cold',\n",
       "       'other_weather', 'direct_report'],\n",
       "      dtype='object')"
      ]
     },
     "execution_count": 2,
     "metadata": {},
     "output_type": "execute_result"
    }
   ],
   "source": [
    "# load data from database\n",
    "engine = create_engine('sqlite:///Disaster.db')\n",
    "df = pd.read_sql_query('SELECT * FROM mess', con=engine)\n",
    "X = df.iloc[:,1]\n",
    "y = df[df.columns[4:]]\n",
    "categories_name = y.columns\n",
    "categories_name"
   ]
  },
  {
   "cell_type": "code",
   "execution_count": null,
   "metadata": {},
   "outputs": [],
   "source": []
  },
  {
   "cell_type": "code",
   "execution_count": 3,
   "metadata": {},
   "outputs": [],
   "source": [
    "#df.head()"
   ]
  },
  {
   "cell_type": "code",
   "execution_count": 4,
   "metadata": {},
   "outputs": [],
   "source": [
    "#df.info()"
   ]
  },
  {
   "cell_type": "markdown",
   "metadata": {},
   "source": [
    "### 2. Write a tokenization function to process your text data"
   ]
  },
  {
   "cell_type": "code",
   "execution_count": 5,
   "metadata": {},
   "outputs": [],
   "source": [
    "def tokenize(text):\n",
    "    tokens = word_tokenize(text)\n",
    "    lemmatizer = WordNetLemmatizer()\n",
    "\n",
    "    clean_tokens = []\n",
    "    for tok in tokens:\n",
    "        clean_tok = lemmatizer.lemmatize(tok).lower().strip()\n",
    "        clean_tokens.append(clean_tok)\n",
    "\n",
    "    return clean_tokens"
   ]
  },
  {
   "cell_type": "markdown",
   "metadata": {},
   "source": [
    "### 3. Build a machine learning pipeline\n",
    "This machine pipeline should take in the `message` column as input and output classification results on the other 36 categories in the dataset. You may find the [MultiOutputClassifier](http://scikit-learn.org/stable/modules/generated/sklearn.multioutput.MultiOutputClassifier.html) helpful for predicting multiple target variables."
   ]
  },
  {
   "cell_type": "code",
   "execution_count": 6,
   "metadata": {},
   "outputs": [],
   "source": [
    "pipeline = Pipeline([\n",
    "        ('vect', CountVectorizer(tokenizer=tokenize)),\n",
    "        ('tfidf', TfidfTransformer()),\n",
    "        ('clf', MultiOutputClassifier(RandomForestClassifier(n_estimators=10,min_samples_leaf=1,max_features='auto',n_jobs=-1)))\n",
    "    ])"
   ]
  },
  {
   "cell_type": "markdown",
   "metadata": {},
   "source": [
    "### 4. Train pipeline\n",
    "- Split data into train and test sets\n",
    "- Train pipeline"
   ]
  },
  {
   "cell_type": "code",
   "execution_count": 7,
   "metadata": {},
   "outputs": [
    {
     "data": {
      "text/plain": [
       "Pipeline(steps=[('vect',\n",
       "                 CountVectorizer(tokenizer=<function tokenize at 0x0000017905CFCB80>)),\n",
       "                ('tfidf', TfidfTransformer()),\n",
       "                ('clf',\n",
       "                 MultiOutputClassifier(estimator=RandomForestClassifier(n_estimators=10,\n",
       "                                                                        n_jobs=-1)))])"
      ]
     },
     "execution_count": 7,
     "metadata": {},
     "output_type": "execute_result"
    }
   ],
   "source": [
    "X_train, X_test, y_train, y_test = train_test_split(X, y, train_size=0.8)\n",
    "\n",
    "# We split data into train and test sets. However, to get fast result on experimenting with parameters, we will subsample 5,000 sample from the training dataset to train the pipeline.\n",
    "X_train_sub, X_test_sub, y_train_sub, y_test_sub = train_test_split(X_train, y_train, train_size = 5000)\n",
    "\n",
    "#pipeline.fit(X_train, y_train)\n",
    "pipeline.fit(X_train_sub, y_train_sub)"
   ]
  },
  {
   "cell_type": "markdown",
   "metadata": {},
   "source": [
    "### 5. Test your model\n",
    "Report the f1 score, precision and recall for each output category of the dataset. You can do this by iterating through the columns and calling sklearn's `classification_report` on each."
   ]
  },
  {
   "cell_type": "code",
   "execution_count": 8,
   "metadata": {},
   "outputs": [
    {
     "name": "stdout",
     "output_type": "stream",
     "text": [
      "                        precision    recall  f1-score   support\n",
      "\n",
      "               related       0.81      0.93      0.87     12188\n",
      "               request       0.84      0.30      0.44      2695\n",
      "                 offer       0.00      0.00      0.00        73\n",
      "           aid_related       0.75      0.46      0.57      6656\n",
      "          medical_help       0.59      0.07      0.12      1249\n",
      "      medical_products       0.84      0.04      0.07       792\n",
      "     search_and_rescue       0.33      0.01      0.02       414\n",
      "              security       0.00      0.00      0.00       264\n",
      "              military       0.52      0.02      0.05       523\n",
      "           child_alone       0.00      0.00      0.00         0\n",
      "                 water       0.82      0.19      0.31      1001\n",
      "                  food       0.83      0.27      0.41      1805\n",
      "               shelter       0.84      0.10      0.18      1443\n",
      "              clothing       0.00      0.00      0.00       252\n",
      "                 money       1.00      0.01      0.02       348\n",
      "        missing_people       0.00      0.00      0.00       177\n",
      "              refugees       0.25      0.00      0.00       568\n",
      "                 death       0.71      0.07      0.13       712\n",
      "             other_aid       0.37      0.02      0.03      2117\n",
      "infrastructure_related       0.40      0.00      0.01      1043\n",
      "             transport       0.72      0.04      0.08       705\n",
      "             buildings       0.72      0.04      0.08       799\n",
      "           electricity       0.80      0.01      0.02       317\n",
      "                 tools       0.00      0.00      0.00        93\n",
      "             hospitals       0.00      0.00      0.00       190\n",
      "                 shops       0.00      0.00      0.00        74\n",
      "           aid_centers       0.00      0.00      0.00       200\n",
      "  other_infrastructure       0.17      0.00      0.00       681\n",
      "       weather_related       0.85      0.47      0.61      4472\n",
      "                floods       0.92      0.33      0.48      1309\n",
      "                 storm       0.79      0.19      0.30      1502\n",
      "                  fire       0.00      0.00      0.00       178\n",
      "            earthquake       0.85      0.38      0.53      1493\n",
      "                  cold       0.78      0.02      0.04       334\n",
      "         other_weather       0.51      0.03      0.05       854\n",
      "         direct_report       0.78      0.25      0.38      3075\n",
      "\n",
      "             micro avg       0.80      0.40      0.54     50596\n",
      "             macro avg       0.49      0.12      0.16     50596\n",
      "          weighted avg       0.72      0.40      0.46     50596\n",
      "           samples avg       0.67      0.40      0.45     50596\n",
      "\n"
     ]
    },
    {
     "name": "stderr",
     "output_type": "stream",
     "text": [
      "C:\\Users\\Jorge Assis\\anaconda3\\lib\\site-packages\\sklearn\\metrics\\_classification.py:1248: UndefinedMetricWarning: Precision and F-score are ill-defined and being set to 0.0 in labels with no predicted samples. Use `zero_division` parameter to control this behavior.\n",
      "  _warn_prf(average, modifier, msg_start, len(result))\n",
      "C:\\Users\\Jorge Assis\\anaconda3\\lib\\site-packages\\sklearn\\metrics\\_classification.py:1248: UndefinedMetricWarning: Recall and F-score are ill-defined and being set to 0.0 in labels with no true samples. Use `zero_division` parameter to control this behavior.\n",
      "  _warn_prf(average, modifier, msg_start, len(result))\n",
      "C:\\Users\\Jorge Assis\\anaconda3\\lib\\site-packages\\sklearn\\metrics\\_classification.py:1248: UndefinedMetricWarning: Precision and F-score are ill-defined and being set to 0.0 in samples with no predicted labels. Use `zero_division` parameter to control this behavior.\n",
      "  _warn_prf(average, modifier, msg_start, len(result))\n",
      "C:\\Users\\Jorge Assis\\anaconda3\\lib\\site-packages\\sklearn\\metrics\\_classification.py:1248: UndefinedMetricWarning: Recall and F-score are ill-defined and being set to 0.0 in samples with no true labels. Use `zero_division` parameter to control this behavior.\n",
      "  _warn_prf(average, modifier, msg_start, len(result))\n"
     ]
    }
   ],
   "source": [
    "#y_pred = pipeline.predict(X_test)\n",
    "\n",
    "y_pred_sub = pipeline.predict(X_test_sub)\n",
    "y_pred_sub\n",
    "\n",
    "y_test_np = y_test.values\n",
    "\n",
    "# Report the f1 score, precision and recall for each output category of the dataset.\n",
    "print(classification_report(y_test_sub, y_pred_sub,target_names=y_test.keys()))\n"
   ]
  },
  {
   "cell_type": "markdown",
   "metadata": {},
   "source": [
    "### 6. Improve your model\n",
    "Use grid search to find better parameters. "
   ]
  },
  {
   "cell_type": "code",
   "execution_count": 9,
   "metadata": {},
   "outputs": [],
   "source": [
    "parameters = {\n",
    "    'clf__estimator__n_estimators': [50, 100, 200],\n",
    "    'clf__estimator__min_samples_leaf': [5, 10, 20],\n",
    "    'clf__estimator__max_features': [0.5, 1, \"log2\"]\n",
    "}\n",
    "\n",
    "cv = GridSearchCV(pipeline, param_grid=parameters)"
   ]
  },
  {
   "cell_type": "markdown",
   "metadata": {},
   "source": [
    "### 7. Test your model\n",
    "Show the accuracy, precision, and recall of the tuned model.  \n",
    "\n",
    "Since this project focuses on code quality, process, and  pipelines, there is no minimum performance metric needed to pass. However, make sure to fine tune your models for accuracy, precision and recall to make your project stand out - especially for your portfolio!"
   ]
  },
  {
   "cell_type": "code",
   "execution_count": 10,
   "metadata": {},
   "outputs": [
    {
     "name": "stdout",
     "output_type": "stream",
     "text": [
      "                        precision    recall  f1-score   support\n",
      "\n",
      "               related       0.82      0.93      0.87     12188\n",
      "               request       0.77      0.52      0.62      2695\n",
      "                 offer       0.00      0.00      0.00        73\n",
      "           aid_related       0.71      0.62      0.67      6656\n",
      "          medical_help       0.53      0.29      0.38      1249\n",
      "      medical_products       0.71      0.28      0.40       792\n",
      "     search_and_rescue       0.65      0.18      0.28       414\n",
      "              security       0.22      0.01      0.01       264\n",
      "              military       0.53      0.24      0.33       523\n",
      "           child_alone       0.00      0.00      0.00         0\n",
      "                 water       0.74      0.64      0.69      1001\n",
      "                  food       0.79      0.77      0.78      1805\n",
      "               shelter       0.78      0.57      0.66      1443\n",
      "              clothing       0.76      0.53      0.63       252\n",
      "                 money       0.47      0.22      0.29       348\n",
      "        missing_people       0.92      0.07      0.13       177\n",
      "              refugees       0.60      0.26      0.37       568\n",
      "                 death       0.72      0.50      0.59       712\n",
      "             other_aid       0.54      0.10      0.17      2117\n",
      "infrastructure_related       0.22      0.01      0.02      1043\n",
      "             transport       0.62      0.26      0.37       705\n",
      "             buildings       0.55      0.32      0.40       799\n",
      "           electricity       0.58      0.35      0.44       317\n",
      "                 tools       0.00      0.00      0.00        93\n",
      "             hospitals       0.00      0.00      0.00       190\n",
      "                 shops       0.00      0.00      0.00        74\n",
      "           aid_centers       0.00      0.00      0.00       200\n",
      "  other_infrastructure       0.19      0.01      0.01       681\n",
      "       weather_related       0.84      0.70      0.76      4472\n",
      "                floods       0.85      0.53      0.66      1309\n",
      "                 storm       0.72      0.66      0.68      1502\n",
      "                  fire       0.63      0.30      0.40       178\n",
      "            earthquake       0.89      0.80      0.84      1493\n",
      "                  cold       0.68      0.31      0.43       334\n",
      "         other_weather       0.49      0.14      0.22       854\n",
      "         direct_report       0.76      0.44      0.56      3075\n",
      "\n",
      "             micro avg       0.77      0.59      0.67     50596\n",
      "             macro avg       0.54      0.32      0.38     50596\n",
      "          weighted avg       0.72      0.59      0.62     50596\n",
      "           samples avg       0.63      0.51      0.52     50596\n",
      "\n"
     ]
    },
    {
     "name": "stderr",
     "output_type": "stream",
     "text": [
      "C:\\Users\\Jorge Assis\\anaconda3\\lib\\site-packages\\sklearn\\metrics\\_classification.py:1248: UndefinedMetricWarning: Precision and F-score are ill-defined and being set to 0.0 in labels with no predicted samples. Use `zero_division` parameter to control this behavior.\n",
      "  _warn_prf(average, modifier, msg_start, len(result))\n",
      "C:\\Users\\Jorge Assis\\anaconda3\\lib\\site-packages\\sklearn\\metrics\\_classification.py:1248: UndefinedMetricWarning: Recall and F-score are ill-defined and being set to 0.0 in labels with no true samples. Use `zero_division` parameter to control this behavior.\n",
      "  _warn_prf(average, modifier, msg_start, len(result))\n",
      "C:\\Users\\Jorge Assis\\anaconda3\\lib\\site-packages\\sklearn\\metrics\\_classification.py:1248: UndefinedMetricWarning: Precision and F-score are ill-defined and being set to 0.0 in samples with no predicted labels. Use `zero_division` parameter to control this behavior.\n",
      "  _warn_prf(average, modifier, msg_start, len(result))\n",
      "C:\\Users\\Jorge Assis\\anaconda3\\lib\\site-packages\\sklearn\\metrics\\_classification.py:1248: UndefinedMetricWarning: Recall and F-score are ill-defined and being set to 0.0 in samples with no true labels. Use `zero_division` parameter to control this behavior.\n",
      "  _warn_prf(average, modifier, msg_start, len(result))\n"
     ]
    }
   ],
   "source": [
    "cv.fit(X_train_sub, y_train_sub)\n",
    "y_pred_grid_sub = cv.predict(X_test_sub)\n",
    "\n",
    "print(classification_report(y_test_sub, y_pred_grid_sub,target_names=y_test.keys()))"
   ]
  },
  {
   "cell_type": "code",
   "execution_count": 11,
   "metadata": {},
   "outputs": [
    {
     "data": {
      "text/plain": [
       "{'clf__estimator__max_features': 0.5,\n",
       " 'clf__estimator__min_samples_leaf': 5,\n",
       " 'clf__estimator__n_estimators': 200}"
      ]
     },
     "execution_count": 11,
     "metadata": {},
     "output_type": "execute_result"
    }
   ],
   "source": [
    "chosen_model = cv.best_params_\n",
    "\n",
    "chosen_model"
   ]
  },
  {
   "cell_type": "code",
   "execution_count": 12,
   "metadata": {},
   "outputs": [
    {
     "name": "stdout",
     "output_type": "stream",
     "text": [
      "                        precision    recall  f1-score   support\n",
      "\n",
      "               related       0.82      0.94      0.88      3970\n",
      "               request       0.77      0.54      0.63       948\n",
      "                 offer       0.00      0.00      0.00        27\n",
      "           aid_related       0.73      0.63      0.68      2186\n",
      "          medical_help       0.56      0.28      0.37       436\n",
      "      medical_products       0.75      0.29      0.42       279\n",
      "     search_and_rescue       0.71      0.14      0.24       169\n",
      "              security       0.00      0.00      0.00       100\n",
      "              military       0.52      0.35      0.42       166\n",
      "           child_alone       0.00      0.00      0.00         0\n",
      "                 water       0.79      0.70      0.74       350\n",
      "                  food       0.79      0.79      0.79       593\n",
      "               shelter       0.74      0.64      0.69       463\n",
      "              clothing       0.68      0.56      0.61        84\n",
      "                 money       0.70      0.31      0.43       131\n",
      "        missing_people       0.67      0.18      0.29        65\n",
      "              refugees       0.67      0.28      0.39       173\n",
      "                 death       0.70      0.56      0.62       243\n",
      "             other_aid       0.54      0.11      0.19       688\n",
      "infrastructure_related       0.36      0.01      0.03       347\n",
      "             transport       0.66      0.27      0.39       244\n",
      "             buildings       0.72      0.33      0.46       278\n",
      "           electricity       0.56      0.30      0.39       106\n",
      "                 tools       0.00      0.00      0.00        29\n",
      "             hospitals       1.00      0.02      0.05        42\n",
      "                 shops       0.00      0.00      0.00        25\n",
      "           aid_centers       1.00      0.05      0.10        57\n",
      "  other_infrastructure       0.00      0.00      0.00       244\n",
      "       weather_related       0.85      0.74      0.79      1423\n",
      "                floods       0.90      0.53      0.66       438\n",
      "                 storm       0.73      0.73      0.73       490\n",
      "                  fire       0.57      0.24      0.33        51\n",
      "            earthquake       0.88      0.79      0.83       467\n",
      "                  cold       0.68      0.41      0.51        97\n",
      "         other_weather       0.53      0.15      0.23       236\n",
      "         direct_report       0.73      0.49      0.58      1042\n",
      "\n",
      "             micro avg       0.78      0.60      0.68     16687\n",
      "             macro avg       0.59      0.34      0.40     16687\n",
      "          weighted avg       0.73      0.60      0.64     16687\n",
      "           samples avg       0.63      0.51      0.52     16687\n",
      "\n"
     ]
    },
    {
     "name": "stderr",
     "output_type": "stream",
     "text": [
      "C:\\Users\\Jorge Assis\\anaconda3\\lib\\site-packages\\sklearn\\metrics\\_classification.py:1248: UndefinedMetricWarning: Precision and F-score are ill-defined and being set to 0.0 in labels with no predicted samples. Use `zero_division` parameter to control this behavior.\n",
      "  _warn_prf(average, modifier, msg_start, len(result))\n",
      "C:\\Users\\Jorge Assis\\anaconda3\\lib\\site-packages\\sklearn\\metrics\\_classification.py:1248: UndefinedMetricWarning: Recall and F-score are ill-defined and being set to 0.0 in labels with no true samples. Use `zero_division` parameter to control this behavior.\n",
      "  _warn_prf(average, modifier, msg_start, len(result))\n",
      "C:\\Users\\Jorge Assis\\anaconda3\\lib\\site-packages\\sklearn\\metrics\\_classification.py:1248: UndefinedMetricWarning: Precision and F-score are ill-defined and being set to 0.0 in samples with no predicted labels. Use `zero_division` parameter to control this behavior.\n",
      "  _warn_prf(average, modifier, msg_start, len(result))\n",
      "C:\\Users\\Jorge Assis\\anaconda3\\lib\\site-packages\\sklearn\\metrics\\_classification.py:1248: UndefinedMetricWarning: Recall and F-score are ill-defined and being set to 0.0 in samples with no true labels. Use `zero_division` parameter to control this behavior.\n",
      "  _warn_prf(average, modifier, msg_start, len(result))\n"
     ]
    }
   ],
   "source": [
    "pipeline2 = Pipeline([\n",
    "        ('vect', CountVectorizer(tokenizer=tokenize)),\n",
    "        ('tfidf', TfidfTransformer()),\n",
    "        ('clf', MultiOutputClassifier(RandomForestClassifier(n_estimators=200,min_samples_leaf=10,max_features=0.5,n_jobs=-1)))\n",
    "    ])\n",
    "\n",
    "pipeline2.fit(X_train, y_train)\n",
    "\n",
    "y_pred = pipeline2.predict(X_test)\n",
    "\n",
    "print(classification_report(y_test, y_pred,target_names=y_test.keys()))"
   ]
  },
  {
   "cell_type": "markdown",
   "metadata": {},
   "source": [
    "### 8. Try improving your model further. Here are a few ideas:\n",
    "* try other machine learning algorithms\n",
    "* add other features besides the TF-IDF"
   ]
  },
  {
   "cell_type": "code",
   "execution_count": null,
   "metadata": {},
   "outputs": [],
   "source": []
  },
  {
   "cell_type": "markdown",
   "metadata": {},
   "source": [
    "### 9. Export your model as a pickle file"
   ]
  },
  {
   "cell_type": "code",
   "execution_count": 14,
   "metadata": {},
   "outputs": [],
   "source": [
    "# Save a dictionary into a pickle file.\n",
    "import pickle\n",
    "\n",
    "with open('model.pkl', 'wb') as model_file:\n",
    "  pickle.dump(pipeline2, model_file)"
   ]
  },
  {
   "cell_type": "markdown",
   "metadata": {},
   "source": [
    "### 10. Use this notebook to complete `train.py`\n",
    "Use the template file attached in the Resources folder to write a script that runs the steps above to create a database and export a model based on a new dataset specified by the user."
   ]
  },
  {
   "cell_type": "code",
   "execution_count": null,
   "metadata": {},
   "outputs": [],
   "source": []
  }
 ],
 "metadata": {
  "kernelspec": {
   "display_name": "Python 3",
   "language": "python",
   "name": "python3"
  },
  "language_info": {
   "codemirror_mode": {
    "name": "ipython",
    "version": 3
   },
   "file_extension": ".py",
   "mimetype": "text/x-python",
   "name": "python",
   "nbconvert_exporter": "python",
   "pygments_lexer": "ipython3",
   "version": "3.8.10"
  }
 },
 "nbformat": 4,
 "nbformat_minor": 4
}
